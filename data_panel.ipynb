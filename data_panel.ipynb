{
 "cells": [
  {
   "cell_type": "markdown",
   "metadata": {},
   "source": [
    "---\n",
    "\n",
    "### **1. Import Library**"
   ]
  },
  {
   "cell_type": "code",
   "execution_count": 30,
   "metadata": {},
   "outputs": [],
   "source": [
    "import pandas as pd\n",
    "import numpy as np\n",
    "import statsmodels.api as sm\n",
    "from linearmodels.panel import PanelOLS, RandomEffects\n",
    "from statsmodels.stats.diagnostic import het_breuschpagan\n",
    "from scipy.stats import chi2\n",
    "from scipy.stats import f\n"
   ]
  },
  {
   "cell_type": "markdown",
   "metadata": {},
   "source": [
    "---\n",
    "\n",
    "### **2. Load Data**"
   ]
  },
  {
   "cell_type": "code",
   "execution_count": 31,
   "metadata": {},
   "outputs": [
    {
     "data": {
      "text/html": [
       "<div>\n",
       "<style scoped>\n",
       "    .dataframe tbody tr th:only-of-type {\n",
       "        vertical-align: middle;\n",
       "    }\n",
       "\n",
       "    .dataframe tbody tr th {\n",
       "        vertical-align: top;\n",
       "    }\n",
       "\n",
       "    .dataframe thead th {\n",
       "        text-align: right;\n",
       "    }\n",
       "</style>\n",
       "<table border=\"1\" class=\"dataframe\">\n",
       "  <thead>\n",
       "    <tr style=\"text-align: right;\">\n",
       "      <th></th>\n",
       "      <th>Tahun</th>\n",
       "      <th>Provinsi</th>\n",
       "      <th>Tingkat Pengangguran Terbuka (Persen)</th>\n",
       "      <th>Indeks Pembangunan Manusia</th>\n",
       "      <th>Produk Domestik Regional Bruto per Kapita HB (Rp)</th>\n",
       "    </tr>\n",
       "  </thead>\n",
       "  <tbody>\n",
       "    <tr>\n",
       "      <th>0</th>\n",
       "      <td>2019</td>\n",
       "      <td>ACEH</td>\n",
       "      <td>6.17</td>\n",
       "      <td>71.90</td>\n",
       "      <td>164162.98</td>\n",
       "    </tr>\n",
       "    <tr>\n",
       "      <th>1</th>\n",
       "      <td>2020</td>\n",
       "      <td>ACEH</td>\n",
       "      <td>6.59</td>\n",
       "      <td>71.99</td>\n",
       "      <td>166372.32</td>\n",
       "    </tr>\n",
       "    <tr>\n",
       "      <th>2</th>\n",
       "      <td>2021</td>\n",
       "      <td>ACEH</td>\n",
       "      <td>6.30</td>\n",
       "      <td>72.18</td>\n",
       "      <td>184979.88</td>\n",
       "    </tr>\n",
       "    <tr>\n",
       "      <th>3</th>\n",
       "      <td>2022</td>\n",
       "      <td>ACEH</td>\n",
       "      <td>6.17</td>\n",
       "      <td>72.80</td>\n",
       "      <td>210418.36</td>\n",
       "    </tr>\n",
       "    <tr>\n",
       "      <th>4</th>\n",
       "      <td>2023</td>\n",
       "      <td>ACEH</td>\n",
       "      <td>6.03</td>\n",
       "      <td>74.70</td>\n",
       "      <td>227110.20</td>\n",
       "    </tr>\n",
       "    <tr>\n",
       "      <th>...</th>\n",
       "      <td>...</td>\n",
       "      <td>...</td>\n",
       "      <td>...</td>\n",
       "      <td>...</td>\n",
       "      <td>...</td>\n",
       "    </tr>\n",
       "    <tr>\n",
       "      <th>165</th>\n",
       "      <td>2019</td>\n",
       "      <td>PAPUA</td>\n",
       "      <td>3.51</td>\n",
       "      <td>60.84</td>\n",
       "      <td>189510.70</td>\n",
       "    </tr>\n",
       "    <tr>\n",
       "      <th>166</th>\n",
       "      <td>2020</td>\n",
       "      <td>PAPUA</td>\n",
       "      <td>4.28</td>\n",
       "      <td>60.44</td>\n",
       "      <td>199186.57</td>\n",
       "    </tr>\n",
       "    <tr>\n",
       "      <th>167</th>\n",
       "      <td>2021</td>\n",
       "      <td>PAPUA</td>\n",
       "      <td>3.33</td>\n",
       "      <td>60.62</td>\n",
       "      <td>235487.47</td>\n",
       "    </tr>\n",
       "    <tr>\n",
       "      <th>168</th>\n",
       "      <td>2022</td>\n",
       "      <td>PAPUA</td>\n",
       "      <td>2.83</td>\n",
       "      <td>61.39</td>\n",
       "      <td>262519.79</td>\n",
       "    </tr>\n",
       "    <tr>\n",
       "      <th>169</th>\n",
       "      <td>2023</td>\n",
       "      <td>PAPUA</td>\n",
       "      <td>2.67</td>\n",
       "      <td>62.25</td>\n",
       "      <td>81737.92</td>\n",
       "    </tr>\n",
       "  </tbody>\n",
       "</table>\n",
       "<p>170 rows × 5 columns</p>\n",
       "</div>"
      ],
      "text/plain": [
       "     Tahun Provinsi  Tingkat Pengangguran Terbuka (Persen)  \\\n",
       "0     2019     ACEH                                   6.17   \n",
       "1     2020     ACEH                                   6.59   \n",
       "2     2021     ACEH                                   6.30   \n",
       "3     2022     ACEH                                   6.17   \n",
       "4     2023     ACEH                                   6.03   \n",
       "..     ...      ...                                    ...   \n",
       "165   2019    PAPUA                                   3.51   \n",
       "166   2020    PAPUA                                   4.28   \n",
       "167   2021    PAPUA                                   3.33   \n",
       "168   2022    PAPUA                                   2.83   \n",
       "169   2023    PAPUA                                   2.67   \n",
       "\n",
       "     Indeks Pembangunan Manusia  \\\n",
       "0                         71.90   \n",
       "1                         71.99   \n",
       "2                         72.18   \n",
       "3                         72.80   \n",
       "4                         74.70   \n",
       "..                          ...   \n",
       "165                       60.84   \n",
       "166                       60.44   \n",
       "167                       60.62   \n",
       "168                       61.39   \n",
       "169                       62.25   \n",
       "\n",
       "     Produk Domestik Regional Bruto per Kapita HB (Rp)  \n",
       "0                                            164162.98  \n",
       "1                                            166372.32  \n",
       "2                                            184979.88  \n",
       "3                                            210418.36  \n",
       "4                                            227110.20  \n",
       "..                                                 ...  \n",
       "165                                          189510.70  \n",
       "166                                          199186.57  \n",
       "167                                          235487.47  \n",
       "168                                          262519.79  \n",
       "169                                           81737.92  \n",
       "\n",
       "[170 rows x 5 columns]"
      ]
     },
     "execution_count": 31,
     "metadata": {},
     "output_type": "execute_result"
    }
   ],
   "source": [
    "data = pd.read_excel(\"data_panel_ekonomi_indonesia.xlsx\")\n",
    "data\n"
   ]
  },
  {
   "cell_type": "markdown",
   "metadata": {},
   "source": [
    "---\n",
    "\n",
    "### **3. Preprocessing Data**\n",
    "Konversi data ke dalam format panel dengan indeks multi-level:"
   ]
  },
  {
   "cell_type": "code",
   "execution_count": 32,
   "metadata": {},
   "outputs": [
    {
     "name": "stdout",
     "output_type": "stream",
     "text": [
      "<class 'pandas.core.frame.DataFrame'>\n",
      "MultiIndex: 170 entries, ('ACEH', Timestamp('2019-01-01 00:00:00')) to ('SUMATERA UTARA', Timestamp('2023-01-01 00:00:00'))\n",
      "Data columns (total 3 columns):\n",
      " #   Column                                             Non-Null Count  Dtype  \n",
      "---  ------                                             --------------  -----  \n",
      " 0   Tingkat Pengangguran Terbuka (Persen)              170 non-null    float64\n",
      " 1   Indeks Pembangunan Manusia                         170 non-null    float64\n",
      " 2   Produk Domestik Regional Bruto per Kapita HB (Rp)  170 non-null    float64\n",
      "dtypes: float64(3)\n",
      "memory usage: 5.9+ KB\n",
      "None\n"
     ]
    }
   ],
   "source": [
    "data['Tahun'] = pd.to_datetime(data['Tahun'], format='%Y')\n",
    "data.set_index(['Provinsi', 'Tahun'], inplace=True)\n",
    "data = data.sort_index()\n",
    "\n",
    "# Cek data setelah preprocessing\n",
    "print(data.info())"
   ]
  },
  {
   "cell_type": "markdown",
   "metadata": {},
   "source": [
    "---\n",
    "\n",
    "### **4. Definisikan Variabel**\n",
    "Pisahkan variabel dependen (`y`) dan independen (`X`):"
   ]
  },
  {
   "cell_type": "code",
   "execution_count": 33,
   "metadata": {},
   "outputs": [],
   "source": [
    "# Variabel dependen (Y)\n",
    "y = data['Tingkat Pengangguran Terbuka (Persen)']\n",
    "\n",
    "# Variabel independen (X)\n",
    "X = data[['Indeks Pembangunan Manusia', 'Produk Domestik Regional Bruto per Kapita HB (Rp)']]\n",
    "X = sm.add_constant(X)  # Tambahkan konstanta\n"
   ]
  },
  {
   "cell_type": "markdown",
   "metadata": {},
   "source": [
    "---\n",
    "\n",
    "### **5. Uji Heteroskedastisitas**\n",
    "Uji Breusch-Pagan untuk memeriksa heteroskedastisitas:\n",
    "- **Heteroskedastisitas**: Jika p-value < 0.05, ada indikasi heteroskedastisitas.\n"
   ]
  },
  {
   "cell_type": "code",
   "execution_count": 34,
   "metadata": {},
   "outputs": [
    {
     "name": "stdout",
     "output_type": "stream",
     "text": [
      "Hasil Uji Heteroskedastisitas (Breusch-Pagan):\n",
      "Lagrange Multiplier: 5.645814623351758, p-value: 0.05943290132026017\n"
     ]
    }
   ],
   "source": [
    "ols_model = sm.OLS(y, X).fit()\n",
    "\n",
    "# Breusch-Pagan Test\n",
    "bp_test = het_breuschpagan(ols_model.resid, ols_model.model.exog)\n",
    "print(\"Hasil Uji Heteroskedastisitas (Breusch-Pagan):\")\n",
    "print(f\"Lagrange Multiplier: {bp_test[0]}, p-value: {bp_test[1]}\")\n"
   ]
  },
  {
   "cell_type": "markdown",
   "metadata": {},
   "source": [
    "---\n",
    "\n",
    "### **6. Uji Chow**\n",
    "Uji Chow mengidentifikasi apakah ada perubahan struktural dalam data, misalnya sebelum dan sesudah tahun tertentu:\n",
    "- **Uji Chow**: Jika p-value < 0.05, ada perubahan struktural antara dua subkelompok.\n"
   ]
  },
  {
   "cell_type": "code",
   "execution_count": null,
   "metadata": {},
   "outputs": [
    {
     "name": "stdout",
     "output_type": "stream",
     "text": [
      "Hasil Uji Chow:\n",
      "F-statistik = 1.7891763821849598, p-value = 0.15125939031087143\n"
     ]
    }
   ],
   "source": [
    "# Membagi data menjadi dua periode (Sebelum covid-19 dan setelah covid-19)\n",
    "data_2019_2021 = data.loc[data.index.get_level_values('Tahun') <= '2020']\n",
    "data_2022_2023 = data.loc[data.index.get_level_values('Tahun') > '2020']\n",
    "\n",
    "# Menghitung RSS untuk masing-masing model\n",
    "ols_1 = sm.OLS(data_2019_2021['Tingkat Pengangguran Terbuka (Persen)'],\n",
    "               sm.add_constant(data_2019_2021[['Indeks Pembangunan Manusia', \n",
    "                                               'Produk Domestik Regional Bruto per Kapita HB (Rp)']])).fit()\n",
    "ols_2 = sm.OLS(data_2022_2023['Tingkat Pengangguran Terbuka (Persen)'],\n",
    "               sm.add_constant(data_2022_2023[['Indeks Pembangunan Manusia', \n",
    "                                               'Produk Domestik Regional Bruto per Kapita HB (Rp)']])).fit()\n",
    "\n",
    "RSS_pooled = ols_model.ssr\n",
    "RSS_1 = ols_1.ssr\n",
    "RSS_2 = ols_2.ssr\n",
    "\n",
    "n1, n2 = len(data_2019_2021), len(data_2022_2023)\n",
    "k = X.shape[1]\n",
    "\n",
    "# Hitung statistik F untuk uji Chow\n",
    "F_chow = ((RSS_pooled - (RSS_1 + RSS_2)) / k) / ((RSS_1 + RSS_2) / (n1 + n2 - 2 * k))\n",
    "p_value_chow = 1 - f.cdf(F_chow, dfn=k, dfd=(n1 + n2 - 2 * k))\n",
    "\n",
    "print(\"Hasil Uji Chow:\")\n",
    "print(f\"F-statistik = {F_chow}, p-value = {p_value_chow}\")\n"
   ]
  },
  {
   "cell_type": "markdown",
   "metadata": {},
   "source": [
    "---\n",
    "\n",
    "### **7. Model Data Panel**\n",
    "Hitung model **Fixed Effects** dan **Random Effects**:"
   ]
  },
  {
   "cell_type": "code",
   "execution_count": 13,
   "metadata": {},
   "outputs": [
    {
     "name": "stdout",
     "output_type": "stream",
     "text": [
      "Hasil Fixed Effects:\n",
      "                                    PanelOLS Estimation Summary                                    \n",
      "===================================================================================================\n",
      "Dep. Variable:     Tingkat Pengangguran Terbuka (Persen)   R-squared:                        0.1589\n",
      "Estimator:                                      PanelOLS   R-squared (Between):             -3.3680\n",
      "No. Observations:                                    170   R-squared (Within):               0.1589\n",
      "Date:                                   Sat, Nov 30 2024   R-squared (Overall):             -2.7833\n",
      "Time:                                           00:37:41   Log-likelihood                   -169.11\n",
      "Cov. Estimator:                               Unadjusted                                           \n",
      "                                                           F-statistic:                      12.653\n",
      "Entities:                                             34   P-value                           0.0000\n",
      "Avg Obs:                                          5.0000   Distribution:                   F(2,134)\n",
      "Min Obs:                                          5.0000                                           \n",
      "Max Obs:                                          5.0000   F-statistic (robust):             12.653\n",
      "                                                           P-value                           0.0000\n",
      "Time periods:                                          5   Distribution:                   F(2,134)\n",
      "Avg Obs:                                          34.000                                           \n",
      "Min Obs:                                          34.000                                           \n",
      "Max Obs:                                          34.000                                           \n",
      "                                                                                                   \n",
      "                                                 Parameter Estimates                                                 \n",
      "=====================================================================================================================\n",
      "                                                   Parameter  Std. Err.     T-stat    P-value    Lower CI    Upper CI\n",
      "---------------------------------------------------------------------------------------------------------------------\n",
      "const                                                 13.612     5.2293     2.6030     0.0103      3.2691      23.954\n",
      "Indeks Pembangunan Manusia                           -0.0977     0.0749    -1.3037     0.1946     -0.2459      0.0505\n",
      "Produk Domestik Regional Bruto per Kapita HB (Rp) -2.792e-06  7.148e-07    -3.9057     0.0001  -4.205e-06  -1.378e-06\n",
      "=====================================================================================================================\n",
      "\n",
      "F-test for Poolability: 18.347\n",
      "P-value: 0.0000\n",
      "Distribution: F(33,134)\n",
      "\n",
      "Included effects: Entity\n",
      "Hasil Random Effects:\n",
      "                                  RandomEffects Estimation Summary                                 \n",
      "===================================================================================================\n",
      "Dep. Variable:     Tingkat Pengangguran Terbuka (Persen)   R-squared:                        0.0036\n",
      "Estimator:                                 RandomEffects   R-squared (Between):              0.0762\n",
      "No. Observations:                                    170   R-squared (Within):              -0.0169\n",
      "Date:                                   Sat, Nov 30 2024   R-squared (Overall):              0.0608\n",
      "Time:                                           00:37:41   Log-likelihood                   -204.68\n",
      "Cov. Estimator:                               Unadjusted                                           \n",
      "                                                           F-statistic:                      0.3022\n",
      "Entities:                                             34   P-value                           0.7396\n",
      "Avg Obs:                                          5.0000   Distribution:                   F(2,167)\n",
      "Min Obs:                                          5.0000                                           \n",
      "Max Obs:                                          5.0000   F-statistic (robust):             0.3022\n",
      "                                                           P-value                           0.7396\n",
      "Time periods:                                          5   Distribution:                   F(2,167)\n",
      "Avg Obs:                                          34.000                                           \n",
      "Min Obs:                                          34.000                                           \n",
      "Max Obs:                                          34.000                                           \n",
      "                                                                                                   \n",
      "                                                 Parameter Estimates                                                 \n",
      "=====================================================================================================================\n",
      "                                                   Parameter  Std. Err.     T-stat    P-value    Lower CI    Upper CI\n",
      "---------------------------------------------------------------------------------------------------------------------\n",
      "const                                                 6.2011     3.9338     1.5764     0.1168     -1.5652      13.967\n",
      "Indeks Pembangunan Manusia                           -0.0165     0.0557    -0.2953     0.7681     -0.1265      0.0936\n",
      "Produk Domestik Regional Bruto per Kapita HB (Rp)  2.734e-07  3.518e-07     0.7774     0.4380   -4.21e-07   9.679e-07\n",
      "=====================================================================================================================\n"
     ]
    }
   ],
   "source": [
    "# Fixed Effects\n",
    "fixed_model = PanelOLS(y, X, entity_effects=True).fit()\n",
    "print(\"Hasil Fixed Effects:\")\n",
    "print(fixed_model)\n",
    "\n",
    "# Random Effects\n",
    "random_model = RandomEffects(y, X).fit()\n",
    "print(\"Hasil Random Effects:\")\n",
    "print(random_model)\n"
   ]
  },
  {
   "cell_type": "markdown",
   "metadata": {},
   "source": [
    "---\n",
    "\n",
    "### **8. Uji Hausman**\n",
    "Gunakan uji Hausman untuk membandingkan Fixed Effects dan Random Effects:\n",
    "- **Fixed vs Random**: \n",
    "  - Jika uji Hausman signifikan (p-value < 0.05), gunakan Fixed Effects.\n",
    "  - Jika tidak signifikan, gunakan Random Effects.\n"
   ]
  },
  {
   "cell_type": "code",
   "execution_count": 18,
   "metadata": {},
   "outputs": [
    {
     "name": "stdout",
     "output_type": "stream",
     "text": [
      "Hasil Uji Hausman:\n",
      "Statistik: -42.89574329785529, p-value: 1.0\n"
     ]
    }
   ],
   "source": [
    "b_fixed = fixed_model.params.values\n",
    "b_random = random_model.params.values\n",
    "cov_diff = random_model.cov.values - fixed_model.cov.values\n",
    "\n",
    "# Menghitung statistik Hausman\n",
    "hausman_stat = ((b_fixed - b_random).T @ np.linalg.inv(cov_diff) @ (b_fixed - b_random))\n",
    "\n",
    "# Menghitung p-value menggunakan distribusi chi-square\n",
    "p_value_hausman = 1 - chi2.cdf(hausman_stat, df=len(b_fixed))\n",
    "\n",
    "print(\"Hasil Uji Hausman:\")\n",
    "print(f\"Statistik: {hausman_stat}, p-value: {p_value_hausman}\")\n"
   ]
  },
  {
   "cell_type": "markdown",
   "metadata": {},
   "source": [
    "---\n",
    "\n",
    "### **9. Uji Autokorelasi (Durbin-Watson Test)**\n",
    "\n",
    "Uji Durbin-Watson digunakan untuk mendeteksi adanya autokorelasi dalam residual model regresi. Nilai Durbin-Watson berkisar dari 0 hingga 4:\n",
    "- Nilai mendekati **2**: Tidak ada autokorelasi.\n",
    "- Nilai mendekati **0**: Autokorelasi positif.\n",
    "- Nilai mendekati **4**: Autokorelasi negatif.\n",
    "\n",
    "---\n",
    "\n",
    "### **Interpretasi Hasil Durbin-Watson**\n",
    "- **Nilai mendekati 2**: Residual tidak memiliki autokorelasi (baik untuk model).\n",
    "- **Nilai jauh dari 2**: Ada kemungkinan autokorelasi dalam residual.\n",
    "  - Jika nilai mendekati **0**, ada autokorelasi positif.\n",
    "  - Jika nilai mendekati **4**, ada autokorelasi negatif."
   ]
  },
  {
   "cell_type": "code",
   "execution_count": 23,
   "metadata": {},
   "outputs": [
    {
     "name": "stdout",
     "output_type": "stream",
     "text": [
      "Hasil Uji Durbin-Watson untuk Fixed Effects:\n",
      "Durbin-Watson Statistic: 2.135614115687824\n",
      "Hasil Uji Durbin-Watson untuk Random Effects:\n",
      "Durbin-Watson Statistic: 1.4649176367531265\n"
     ]
    }
   ],
   "source": [
    "# Uji Autokorelasi Durbin-Watson untuk Fixed Effects\n",
    "dw_fixed = sm.stats.durbin_watson(fixed_model.resids)\n",
    "print(\"Hasil Uji Durbin-Watson untuk Fixed Effects:\")\n",
    "print(f\"Durbin-Watson Statistic: {dw_fixed}\")\n",
    "\n",
    "# Uji Autokorelasi Durbin-Watson untuk Random Effects\n",
    "dw_random = sm.stats.durbin_watson(random_model.resids)\n",
    "print(\"Hasil Uji Durbin-Watson untuk Random Effects:\")\n",
    "print(f\"Durbin-Watson Statistic: {dw_random}\")\n"
   ]
  }
 ],
 "metadata": {
  "kernelspec": {
   "display_name": "Python 3",
   "language": "python",
   "name": "python3"
  },
  "language_info": {
   "codemirror_mode": {
    "name": "ipython",
    "version": 3
   },
   "file_extension": ".py",
   "mimetype": "text/x-python",
   "name": "python",
   "nbconvert_exporter": "python",
   "pygments_lexer": "ipython3",
   "version": "3.10.1"
  }
 },
 "nbformat": 4,
 "nbformat_minor": 2
}
